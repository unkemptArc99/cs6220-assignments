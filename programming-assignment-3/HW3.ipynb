{
 "cells": [
  {
   "cell_type": "markdown",
   "metadata": {},
   "source": [
    "# Programming Assignment 3\n",
    "# Problem 2: Model based Collaborative Filtering"
   ]
  },
  {
   "cell_type": "markdown",
   "metadata": {},
   "source": [
    "## Bringing Imports and Setting File Paths"
   ]
  },
  {
   "cell_type": "code",
   "execution_count": 2,
   "metadata": {},
   "outputs": [],
   "source": [
    "import pandas as pd\n",
    "import numpy as np\n",
    "import os\n",
    "from sklearn.model_selection import train_test_split\n",
    "from scipy.linalg import sqrtm"
   ]
  },
  {
   "cell_type": "code",
   "execution_count": 3,
   "metadata": {},
   "outputs": [],
   "source": [
    "DATA_PATH = 'dataset/ml-100k-dataset'\n",
    "MOVIE_FILENAME = 'u.item'\n",
    "RATING_FILENAME = 'u.data'\n",
    "\n",
    "movie_filename_path = os.path.join(DATA_PATH, MOVIE_FILENAME)\n",
    "rating_filename_path = os.path.join(DATA_PATH, RATING_FILENAME)"
   ]
  },
  {
   "cell_type": "markdown",
   "metadata": {},
   "source": [
    "## Getting Data from the Files"
   ]
  },
  {
   "cell_type": "code",
   "execution_count": 4,
   "metadata": {},
   "outputs": [],
   "source": [
    "r_cols = ['user_id', 'movie_id', 'rating', 'unix_timestamp']\n",
    "ratings = pd.read_csv(rating_filename_path, sep='\\t', names=r_cols,\n",
    "                      encoding='latin-1')"
   ]
  },
  {
   "cell_type": "code",
   "execution_count": 14,
   "metadata": {},
   "outputs": [
    {
     "name": "stdout",
     "output_type": "stream",
     "text": [
      " user_id  movie_id  rating  unix_timestamp\n",
      "     196       242       3       881250949\n",
      "     186       302       3       891717742\n",
      "      22       377       1       878887116\n",
      "     244        51       2       880606923\n",
      "     166       346       1       886397596\n",
      "(100000, 4)\n"
     ]
    }
   ],
   "source": [
    "print(ratings.head(5).to_string(index=False))\n",
    "print(ratings.shape)"
   ]
  },
  {
   "cell_type": "code",
   "execution_count": 6,
   "metadata": {},
   "outputs": [],
   "source": [
    "m_cols = ['movie_id', 'title', 'release_date', 'video_release_date', 'imdb_url']\n",
    "movies = pd.read_csv(movie_filename_path, sep='|', names=m_cols, usecols=range(5),\n",
    "                     encoding='latin-1')"
   ]
  },
  {
   "cell_type": "markdown",
   "metadata": {},
   "source": [
    "## Splitting into Test and Train\n",
    "- I am using a custom test and train splitter in order to ensure that in both the datasets, we have entries for all the users."
   ]
  },
  {
   "cell_type": "code",
   "execution_count": 7,
   "metadata": {},
   "outputs": [],
   "source": [
    "def get_test_train_split(df, test_ratio):\n",
    "    users = df['user_id'].unique()\n",
    "    movies = df['movie_id'].unique()\n",
    "    \n",
    "    test = None\n",
    "    train = None\n",
    "\n",
    "    for u in users:\n",
    "        temp = df[df['user_id'] == u]\n",
    "        # n = len(temp)\n",
    "        temp_train, temp_test = train_test_split(temp, test_size=0.2)\n",
    "        # print(temp_test.shape, temp_train.shape)\n",
    "        if test is not None:\n",
    "            test = pd.concat([test, temp_test])\n",
    "            train = pd.concat([train, temp_train])\n",
    "        else:\n",
    "            test = temp_test\n",
    "            train = temp_train\n",
    "    return test, train"
   ]
  },
  {
   "cell_type": "code",
   "execution_count": 8,
   "metadata": {},
   "outputs": [],
   "source": [
    "ratings_test, ratings_train = get_test_train_split(ratings, 0.2)"
   ]
  },
  {
   "cell_type": "markdown",
   "metadata": {},
   "source": [
    "## Converting into User-Item Matrix"
   ]
  },
  {
   "cell_type": "code",
   "execution_count": 15,
   "metadata": {},
   "outputs": [
    {
     "name": "stdout",
     "output_type": "stream",
     "text": [
      "(943, 1646)\n"
     ]
    }
   ],
   "source": [
    "user_item_matrix = ratings_train.pivot(index='user_id', columns='movie_id', values='rating')\n",
    "user_item_matrix.head(20)\n",
    "print(user_item_matrix.shape)"
   ]
  },
  {
   "cell_type": "markdown",
   "metadata": {},
   "source": [
    "## SVD algorithm\n",
    "This also consists the normalization step."
   ]
  },
  {
   "cell_type": "code",
   "execution_count": 11,
   "metadata": {},
   "outputs": [],
   "source": [
    "def svd(train, k):\n",
    "    util_mat = np.array(train)\n",
    "    mask = np.isnan(util_mat)\n",
    "    masked_arr = np.ma.masked_array(util_mat, mask)\n",
    "    item_means = np.mean(masked_arr, axis=0)\n",
    "    util_mat = masked_arr.filled(item_means)\n",
    "    x = np.tile(item_means, (util_mat.shape[0], 1))\n",
    "    util_mat = util_mat - x\n",
    "\n",
    "    U,s,V = np.linalg.svd(util_mat, full_matrices=False)\n",
    "    \n",
    "    s=np.diag(s)\n",
    "    s=s[0:k,0:k]\n",
    "    U=U[:,0:k]\n",
    "    V=V[0:k,:]\n",
    "    \n",
    "    s_root = sqrtm(s)\n",
    "\n",
    "    Usk = np.dot(U, s_root)\n",
    "    skV = np.dot(s_root, V)\n",
    "    UsV = np.dot(Usk, skV)\n",
    "\n",
    "    UsV = UsV + x\n",
    "    return UsV"
   ]
  },
  {
   "cell_type": "code",
   "execution_count": 12,
   "metadata": {},
   "outputs": [],
   "source": [
    "def rmse(true, pred):\n",
    "    X = true - pred\n",
    "    return sum([xi*xi for xi in X])/len(X)"
   ]
  },
  {
   "cell_type": "code",
   "execution_count": 16,
   "metadata": {},
   "outputs": [],
   "source": [
    "THE_CHOOSEN_USER = 196"
   ]
  },
  {
   "cell_type": "markdown",
   "metadata": {},
   "source": [
    "## Running SVD for different number of feature decompositions"
   ]
  },
  {
   "cell_type": "code",
   "execution_count": 26,
   "metadata": {},
   "outputs": [
    {
     "name": "stdout",
     "output_type": "stream",
     "text": [
      "--------------------------------------------------------------------\n",
      "1. Building model starting for 5 SVD Projection Dimension \n",
      "2. Built model for 5 SVD Projection Dimension in 0.6738145351409912s\n",
      "3. Predictions start...\n",
      "4. Predictions complete in 0.7941782474517822s for 20381 data-points\n",
      "Top 5 movies recommended for the choosen UserID 196 with predicted ratings\n",
      "1. That Old Feeling (1997); Predicted Rating - 5.0\n",
      "2. Price Above Rubies, A (1998); Predicted Rating - 5.0\n",
      "3. Umbrellas of Cherbourg, The (Parapluies de Cherbourg, Les) (1964); Predicted Rating - 5.0\n",
      "4. Young Guns II (1990); Predicted Rating - 5.0\n",
      "5. Damsel in Distress, A (1937); Predicted Rating - 5.0\n",
      "5. Predictions Output (For 20 unique users)\n",
      " user_id  movie_id  actual_rating  pred_rating\n",
      "     196      1118              4     3.698713\n",
      "     186       939              5     2.390029\n",
      "      22        29              1     2.500097\n",
      "     244      1095              2     2.502977\n",
      "     166       894              4     3.258764\n",
      "     298       284              4     3.261085\n",
      "     115       508              5     3.664055\n",
      "     253       465              5     3.567740\n",
      "     305       464              3     3.630944\n",
      "       6       310              2     3.499065\n",
      "      62       249              2     3.225264\n",
      "     286       762              2     3.431377\n",
      "     200       405              3     4.156986\n",
      "     210        96              4     4.300935\n",
      "     224       555              3     1.986584\n",
      "     303       678              1     2.453394\n",
      "     122       570              3     3.086946\n",
      "     194       518              4     3.377405\n",
      "     291      1042              4     3.003954\n",
      "     234       153              3     3.374926\n",
      "6. RMSE for 5 SVD Projection Dimension = 1.0144148014980479\n",
      "--------------------------------------------------------------------\n",
      "1. Building model starting for 10 SVD Projection Dimension \n",
      "2. Built model for 10 SVD Projection Dimension in 0.5245695114135742s\n",
      "3. Predictions start...\n",
      "4. Predictions complete in 0.8793885707855225s for 20381 data-points\n",
      "Top 5 movies recommended for the choosen UserID 196 with predicted ratings\n",
      "1. Damsel in Distress, A (1937); Predicted Rating - 5.0\n",
      "2. Country Life (1994); Predicted Rating - 5.0\n",
      "3. Great Day in Harlem, A (1994); Predicted Rating - 5.0\n",
      "4. Umbrellas of Cherbourg, The (Parapluies de Cherbourg, Les) (1964); Predicted Rating - 5.0\n",
      "5. Young Guns II (1990); Predicted Rating - 5.0\n",
      "5. Predictions Output (For 20 unique users)\n",
      " user_id  movie_id  actual_rating  pred_rating\n",
      "     196      1118              4     3.718600\n",
      "     186       939              5     2.385290\n",
      "      22        29              1     2.534051\n",
      "     244      1095              2     2.504098\n",
      "     166       894              4     3.294351\n",
      "     298       284              4     3.271050\n",
      "     115       508              5     3.751777\n",
      "     253       465              5     3.533453\n",
      "     305       464              3     3.662953\n",
      "       6       310              2     3.450246\n",
      "      62       249              2     3.235094\n",
      "     286       762              2     3.261747\n",
      "     200       405              3     4.188873\n",
      "     210        96              4     4.302672\n",
      "     224       555              3     1.994571\n",
      "     303       678              1     2.445806\n",
      "     122       570              3     3.075109\n",
      "     194       518              4     3.417084\n",
      "     291      1042              4     3.021802\n",
      "     234       153              3     3.395112\n",
      "6. RMSE for 10 SVD Projection Dimension = 1.0047620221424585\n",
      "--------------------------------------------------------------------\n",
      "1. Building model starting for 15 SVD Projection Dimension \n",
      "2. Built model for 15 SVD Projection Dimension in 0.4803004264831543s\n",
      "3. Predictions start...\n",
      "4. Predictions complete in 0.7654550075531006s for 20381 data-points\n",
      "Top 5 movies recommended for the choosen UserID 196 with predicted ratings\n",
      "1. Young Guns II (1990); Predicted Rating - 5.0\n",
      "2. Germinal (1993); Predicted Rating - 5.0\n",
      "3. Hush (1998); Predicted Rating - 5.0\n",
      "4. Quartier Mozart (1992); Predicted Rating - 5.0\n",
      "5. Country Life (1994); Predicted Rating - 5.0\n",
      "5. Predictions Output (For 20 unique users)\n",
      " user_id  movie_id  actual_rating  pred_rating\n",
      "     196      1118              4     3.718025\n",
      "     186       939              5     2.382783\n",
      "      22        29              1     2.504022\n",
      "     244      1095              2     2.502807\n",
      "     166       894              4     3.323815\n",
      "     298       284              4     3.247237\n",
      "     115       508              5     3.778859\n",
      "     253       465              5     3.570397\n",
      "     305       464              3     3.717953\n",
      "       6       310              2     3.420256\n",
      "      62       249              2     3.213191\n",
      "     286       762              2     3.210521\n",
      "     200       405              3     4.323562\n",
      "     210        96              4     4.174446\n",
      "     224       555              3     2.004141\n",
      "     303       678              1     2.357816\n",
      "     122       570              3     3.097145\n",
      "     194       518              4     3.507506\n",
      "     291      1042              4     3.023392\n",
      "     234       153              3     3.154948\n",
      "6. RMSE for 15 SVD Projection Dimension = 1.005761104936141\n",
      "--------------------------------------------------------------------\n",
      "1. Building model starting for 20 SVD Projection Dimension \n",
      "2. Built model for 20 SVD Projection Dimension in 0.6712355613708496s\n",
      "3. Predictions start...\n",
      "4. Predictions complete in 0.7993218898773193s for 20381 data-points\n",
      "Top 5 movies recommended for the choosen UserID 196 with predicted ratings\n",
      "1. That Old Feeling (1997); Predicted Rating - 5.0\n",
      "2. Hush (1998); Predicted Rating - 5.0\n",
      "3. Boys, Les (1997); Predicted Rating - 5.0\n",
      "4. Country Life (1994); Predicted Rating - 5.0\n",
      "5. Quartier Mozart (1992); Predicted Rating - 5.0\n",
      "5. Predictions Output (For 20 unique users)\n",
      " user_id  movie_id  actual_rating  pred_rating\n",
      "     196      1118              4     3.731503\n",
      "     186       939              5     2.348790\n",
      "      22        29              1     2.444128\n",
      "     244      1095              2     2.501897\n",
      "     166       894              4     3.329592\n",
      "     298       284              4     3.273017\n",
      "     115       508              5     3.835457\n",
      "     253       465              5     3.551434\n",
      "     305       464              3     3.716429\n",
      "       6       310              2     3.376951\n",
      "      62       249              2     3.152784\n",
      "     286       762              2     3.279764\n",
      "     200       405              3     4.130055\n",
      "     210        96              4     4.228332\n",
      "     224       555              3     2.013694\n",
      "     303       678              1     2.677996\n",
      "     122       570              3     3.107144\n",
      "     194       518              4     3.598536\n",
      "     291      1042              4     3.022759\n",
      "     234       153              3     3.257367\n",
      "6. RMSE for 20 SVD Projection Dimension = 1.0091169319885724\n",
      "--------------------------------------------------------------------\n",
      "1. Building model starting for 25 SVD Projection Dimension \n",
      "2. Built model for 25 SVD Projection Dimension in 0.5914216041564941s\n",
      "3. Predictions start...\n",
      "4. Predictions complete in 0.7816145420074463s for 20381 data-points\n",
      "Top 5 movies recommended for the choosen UserID 196 with predicted ratings\n",
      "1. Young Guns II (1990); Predicted Rating - 5.0\n",
      "2. Quartier Mozart (1992); Predicted Rating - 5.0\n",
      "3. Umbrellas of Cherbourg, The (Parapluies de Cherbourg, Les) (1964); Predicted Rating - 5.0\n",
      "4. Country Life (1994); Predicted Rating - 5.0\n",
      "5. That Old Feeling (1997); Predicted Rating - 5.0\n",
      "5. Predictions Output (For 20 unique users)\n",
      " user_id  movie_id  actual_rating  pred_rating\n",
      "     196      1118              4     3.727714\n",
      "     186       939              5     2.319772\n",
      "      22        29              1     2.424754\n",
      "     244      1095              2     2.497755\n",
      "     166       894              4     3.324334\n",
      "     298       284              4     3.224725\n",
      "     115       508              5     3.850971\n",
      "     253       465              5     3.589355\n",
      "     305       464              3     3.763882\n",
      "       6       310              2     3.418445\n",
      "      62       249              2     3.132746\n",
      "     286       762              2     3.117002\n",
      "     200       405              3     4.168350\n",
      "     210        96              4     4.023223\n",
      "     224       555              3     2.016962\n",
      "     303       678              1     2.819192\n",
      "     122       570              3     3.107726\n",
      "     194       518              4     3.738963\n",
      "     291      1042              4     3.037147\n",
      "     234       153              3     3.368786\n",
      "6. RMSE for 25 SVD Projection Dimension = 1.0136924028513037\n"
     ]
    }
   ],
   "source": [
    "import time\n",
    "\n",
    "no_of_features_decomposition = [5,10,15,20,25]\n",
    "\n",
    "\n",
    "for f in no_of_features_decomposition:\n",
    "    print(\"--------------------------------------------------------------------\")\n",
    "    start_time = time.time()\n",
    "    print(\"1. Building model starting for \" + str(f) + \" SVD Projection Dimension \")\n",
    "    svdout = svd(user_item_matrix, f)\n",
    "    print(\"2. Built model for \" + str(f) + \" SVD Projection Dimension in \" + str(time.time() - start_time) + \"s\")\n",
    "\n",
    "    pred = []\n",
    "\n",
    "    print(\"3. Predictions start...\")\n",
    "    start_time = time.time()\n",
    "    for _,row in ratings_test.iterrows():\n",
    "        user = row['user_id']\n",
    "        item = row['movie_id']\n",
    "        pred_rating = None\n",
    "        if item <= len(user_item_matrix.columns):\n",
    "            pred_rating = svdout[user-1, item-1]\n",
    "        else:\n",
    "            pred_rating = np.mean(svdout[user-1,:])\n",
    "        pred.append(pred_rating)\n",
    "    print(\"4. Predictions complete in \" + str(time.time() - start_time) + \"s for \" + str(len(pred)) + \" data-points\")\n",
    "\n",
    "    results_df = ratings_test.copy(deep=True)\n",
    "    results_df.drop(columns=['unix_timestamp'], inplace=True)\n",
    "    results_df['pred_rating'] = pred\n",
    "    users = results_df['user_id'].unique()\n",
    "    results_df.rename(columns={\"rating\": \"actual_rating\"}, inplace=True)\n",
    "    results_df_str = None\n",
    "    for user in users:\n",
    "        temp = results_df[results_df['user_id'] == user]\n",
    "        if results_df_str is None:\n",
    "            results_df_str = temp.head(1)\n",
    "        else:\n",
    "            results_df_str = pd.concat([results_df_str, temp.head(1)])\n",
    "    \n",
    "    choosen_user_preds = svdout[THE_CHOOSEN_USER-1, :]\n",
    "    best_movies = np.flip(np.argsort(choosen_user_preds))\n",
    "    print(\"Top 5 movies recommended for the choosen UserID 196 with predicted ratings\")\n",
    "    counter = 1\n",
    "    for movie in best_movies:\n",
    "        if counter > 5:\n",
    "            break\n",
    "        if ratings[(ratings['movie_id'] == movie+1) & (ratings['user_id'] == THE_CHOOSEN_USER)].shape[0] < 1:\n",
    "            print(str(counter) + \". \" + movies[movies['movie_id'] == movie+1].iloc[0]['title'] + \"; Predicted Rating - \" + str(choosen_user_preds[movie]))\n",
    "            counter += 1\n",
    "    \n",
    "    print(\"5. Predictions Output (For 20 unique users)\")\n",
    "    print(results_df_str.head(20).to_string(index=False))\n",
    "\n",
    "    print(\"6. RMSE for \" + str(f) + \" SVD Projection Dimension = \" + str(rmse(ratings_test['rating'], pred)))"
   ]
  },
  {
   "cell_type": "markdown",
   "metadata": {},
   "source": [
    "## Plotting graphs"
   ]
  },
  {
   "cell_type": "code",
   "execution_count": 35,
   "metadata": {},
   "outputs": [
    {
     "data": {
      "image/png": "[encoded data removed]",
      "text/plain": [
       "<Figure size 640x480 with 1 Axes>"
      ]
     },
     "metadata": {},
     "output_type": "display_data"
    }
   ],
   "source": [
    "from matplotlib import pyplot as plt\n",
    "\n",
    "build_time = [67.38145351409912, 52.45695114135742, 48.03004264831543, 67.12355613708496, 59.14216041564941]\n",
    "pred_time = [79.41782474517822, 87.93885707855225, 76.54550075531006, 79.93218898773193, 78.16145420074463]\n",
    "\n",
    "fig = plt.figure()\n",
    "ax = fig.add_subplot(1,1,1)\n",
    "ax.set_xticks(no_of_features_decomposition)\n",
    "ax.plot(no_of_features_decomposition, build_time, label='Model Build Time', color='r')\n",
    "ax.plot(no_of_features_decomposition, pred_time, label='Prediction Time', color='b')\n",
    "ax.set_title(\"Time Metrics of the model-based CF recommendation\")\n",
    "ax.legend()\n",
    "ax.set_xlabel(\"No. of features decomposition\")\n",
    "ax.set_ylabel(\"Time Taken (in ms)\")\n",
    "fig.savefig('time-measurement.png')"
   ]
  },
  {
   "cell_type": "code",
   "execution_count": 36,
   "metadata": {},
   "outputs": [
    {
     "data": {
      "image/png": "[encoded data removed]",
      "text/plain": [
       "<Figure size 640x480 with 1 Axes>"
      ]
     },
     "metadata": {},
     "output_type": "display_data"
    }
   ],
   "source": [
    "rmse = [1.0144148014980479, 1.0047620221424585, 1.005761104936141, 1.0091169319885724, 1.0136924028513037]\n",
    "fig = plt.figure()\n",
    "ax = fig.add_subplot(1,1,1)\n",
    "ax.set_xticks(no_of_features_decomposition)\n",
    "ax.plot(no_of_features_decomposition, rmse, label='RMSE')\n",
    "ax.set_title(\"RMSE of the model-based CF recommendation\")\n",
    "ax.legend()\n",
    "ax.set_xlabel(\"No. of features decomposition\")\n",
    "ax.set_ylabel(\"RMSE\")\n",
    "fig.savefig('rmse.png')\n"
   ]
  }
 ],
 "metadata": {
  "kernelspec": {
   "display_name": "Python 3.10.4 ('cs6220_3')",
   "language": "python",
   "name": "python3"
  },
  "language_info": {
   "codemirror_mode": {
    "name": "ipython",
    "version": 3
   },
   "file_extension": ".py",
   "mimetype": "text/x-python",
   "name": "python",
   "nbconvert_exporter": "python",
   "pygments_lexer": "ipython3",
   "version": "3.10.4"
  },
  "orig_nbformat": 4,
  "vscode": {
   "interpreter": {
    "hash": "4e1e85700a2982ca2cc46fc55a36981799e1b0919d1b5b2f9026c9f0cd4c73c5"
   }
  }
 },
 "nbformat": 4,
 "nbformat_minor": 2
}
